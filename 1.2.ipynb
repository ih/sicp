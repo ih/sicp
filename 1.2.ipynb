{
 "metadata": {
  "language": "Julia",
  "name": "",
  "signature": "sha256:8918853c71fedf6097b4c702e1e291ee06d99fb95d8f45abb4b6b5337e2c8777"
 },
 "nbformat": 3,
 "nbformat_minor": 0,
 "worksheets": [
  {
   "cells": [
    {
     "cell_type": "markdown",
     "metadata": {},
     "source": [
      "*The ability to visualize the consequences of the actions under consideration is crucial to becoming an expert programmer, just as it is in any synthetic, creative activity. In becoming an expert photographer, for example, one must learn how to look at a scene and know how dark each region will appear on a print for each possible choice of exposure and development conditions. Only then can one reason backward, planning framing, lighting, exposure, and development to obtain the desired effects.*\n",
      "\n",
      "Sounds like reasoning with high level actions.  Need to figure out a good way to represent the semantics of these actions (angelic semantics?)."
     ]
    },
    {
     "cell_type": "code",
     "collapsed": false,
     "input": [
      "sicp_factorial(n) = n == 1 ? 1 : n * sicp_factorial(n-1)"
     ],
     "language": "python",
     "metadata": {},
     "outputs": [
      {
       "metadata": {},
       "output_type": "pyout",
       "prompt_number": 2,
       "text": [
        "sicp_factorial (generic function with 1 method)"
       ]
      }
     ],
     "prompt_number": 2
    },
    {
     "cell_type": "code",
     "collapsed": false,
     "input": [
      "sicp_factorial(4)"
     ],
     "language": "python",
     "metadata": {},
     "outputs": [
      {
       "metadata": {},
       "output_type": "pyout",
       "prompt_number": 3,
       "text": [
        "24"
       ]
      }
     ],
     "prompt_number": 3
    },
    {
     "cell_type": "code",
     "collapsed": false,
     "input": [
      "sicp_factorial2(n) = factorial_iterator(1, 1, n)\n",
      "factorial_iterator(result, counter, n) = counter > n ? result : factorial_iterator(result*counter, counter+1, n)"
     ],
     "language": "python",
     "metadata": {},
     "outputs": [
      {
       "metadata": {},
       "output_type": "pyout",
       "prompt_number": 6,
       "text": [
        "factorial_iterator (generic function with 1 method)"
       ]
      }
     ],
     "prompt_number": 6
    },
    {
     "cell_type": "code",
     "collapsed": false,
     "input": [
      "sicp_factorial2(4)"
     ],
     "language": "python",
     "metadata": {},
     "outputs": [
      {
       "metadata": {},
       "output_type": "pyout",
       "prompt_number": 7,
       "text": [
        "24"
       ]
      }
     ],
     "prompt_number": 7
    }
   ],
   "metadata": {}
  }
 ]
}